{
 "cells": [
  {
   "cell_type": "code",
   "execution_count": 1,
   "id": "63d0412d",
   "metadata": {},
   "outputs": [
    {
     "name": "stderr",
     "output_type": "stream",
     "text": [
      "/home/ubuntu/.local/lib/python3.8/site-packages/pandas/core/computation/expressions.py:20: UserWarning: Pandas requires version '2.7.3' or newer of 'numexpr' (version '2.7.1' currently installed).\n",
      "  from pandas.core.computation.check import NUMEXPR_INSTALLED\n"
     ]
    }
   ],
   "source": [
    "import sklearn\n",
    "import tensorflow as tf\n",
    "from tensorflow import keras \n",
    "import warnings\n",
    "warnings.filterwarnings('ignore')"
   ]
  },
  {
   "cell_type": "code",
   "execution_count": 2,
   "id": "9aed54d3",
   "metadata": {
    "scrolled": true
   },
   "outputs": [
    {
     "data": {
      "text/plain": [
       "(178, 14)"
      ]
     },
     "execution_count": 2,
     "metadata": {},
     "output_type": "execute_result"
    }
   ],
   "source": [
    "from sklearn import datasets\n",
    "import numpy as np\n",
    "import pandas as pd\n",
    "\n",
    "# Load the wine dataset\n",
    "wine = datasets.load_wine()\n",
    "\n",
    "# Convert to pandas DataFrame\n",
    "df = pd.DataFrame(data=np.c_[wine['data'], wine['target']], columns=wine['feature_names'] + ['target'])\n",
    "df.shape"
   ]
  },
  {
   "cell_type": "markdown",
   "id": "fd06c1b1",
   "metadata": {},
   "source": [
    "#### Data Summary"
   ]
  },
  {
   "cell_type": "code",
   "execution_count": 3,
   "id": "6a829ddd",
   "metadata": {},
   "outputs": [
    {
     "name": "stdout",
     "output_type": "stream",
     "text": [
      "Size: 14 samples with  14 columns/features\n",
      "Features: ['target', 'proline', 'od280/od315_of_diluted_wines', 'hue', 'color_intensity', 'proanthocyanins', 'nonflavanoid_phenols', 'flavanoids', 'total_phenols', 'magnesium', 'alcalinity_of_ash', 'ash', 'malic_acid', 'alcohol']\n",
      "Classification Targets: [0, 1, 2]\n",
      "Target Names: ['class_0' 'class_1' 'class_2']\n"
     ]
    }
   ],
   "source": [
    "print(f\"Size: {df.shape[1]} samples with  {df.shape[1]} columns/features\")\n",
    "print(f\"Features: {df.columns.tolist()[::-1]}\")\n",
    "targets = df.target.unique().astype(int).tolist()\n",
    "print(f\"Classification Targets: { targets}\");\n",
    "print(f\"Target Names: {wine.target_names}\");\n"
   ]
  },
  {
   "cell_type": "markdown",
   "id": "0fadecac",
   "metadata": {},
   "source": [
    "#### Data Preview"
   ]
  },
  {
   "cell_type": "code",
   "execution_count": 4,
   "id": "35ae7948",
   "metadata": {},
   "outputs": [
    {
     "data": {
      "text/html": [
       "<div>\n",
       "<style scoped>\n",
       "    .dataframe tbody tr th:only-of-type {\n",
       "        vertical-align: middle;\n",
       "    }\n",
       "\n",
       "    .dataframe tbody tr th {\n",
       "        vertical-align: top;\n",
       "    }\n",
       "\n",
       "    .dataframe thead th {\n",
       "        text-align: right;\n",
       "    }\n",
       "</style>\n",
       "<table border=\"1\" class=\"dataframe\">\n",
       "  <thead>\n",
       "    <tr style=\"text-align: right;\">\n",
       "      <th></th>\n",
       "      <th>alcohol</th>\n",
       "      <th>malic_acid</th>\n",
       "      <th>ash</th>\n",
       "      <th>alcalinity_of_ash</th>\n",
       "      <th>magnesium</th>\n",
       "      <th>total_phenols</th>\n",
       "      <th>flavanoids</th>\n",
       "      <th>nonflavanoid_phenols</th>\n",
       "      <th>proanthocyanins</th>\n",
       "      <th>color_intensity</th>\n",
       "      <th>hue</th>\n",
       "      <th>od280/od315_of_diluted_wines</th>\n",
       "      <th>proline</th>\n",
       "      <th>target</th>\n",
       "    </tr>\n",
       "  </thead>\n",
       "  <tbody>\n",
       "    <tr>\n",
       "      <th>0</th>\n",
       "      <td>14.23</td>\n",
       "      <td>1.71</td>\n",
       "      <td>2.43</td>\n",
       "      <td>15.6</td>\n",
       "      <td>127.0</td>\n",
       "      <td>2.80</td>\n",
       "      <td>3.06</td>\n",
       "      <td>0.28</td>\n",
       "      <td>2.29</td>\n",
       "      <td>5.64</td>\n",
       "      <td>1.04</td>\n",
       "      <td>3.92</td>\n",
       "      <td>1065.0</td>\n",
       "      <td>0.0</td>\n",
       "    </tr>\n",
       "    <tr>\n",
       "      <th>1</th>\n",
       "      <td>13.20</td>\n",
       "      <td>1.78</td>\n",
       "      <td>2.14</td>\n",
       "      <td>11.2</td>\n",
       "      <td>100.0</td>\n",
       "      <td>2.65</td>\n",
       "      <td>2.76</td>\n",
       "      <td>0.26</td>\n",
       "      <td>1.28</td>\n",
       "      <td>4.38</td>\n",
       "      <td>1.05</td>\n",
       "      <td>3.40</td>\n",
       "      <td>1050.0</td>\n",
       "      <td>0.0</td>\n",
       "    </tr>\n",
       "    <tr>\n",
       "      <th>2</th>\n",
       "      <td>13.16</td>\n",
       "      <td>2.36</td>\n",
       "      <td>2.67</td>\n",
       "      <td>18.6</td>\n",
       "      <td>101.0</td>\n",
       "      <td>2.80</td>\n",
       "      <td>3.24</td>\n",
       "      <td>0.30</td>\n",
       "      <td>2.81</td>\n",
       "      <td>5.68</td>\n",
       "      <td>1.03</td>\n",
       "      <td>3.17</td>\n",
       "      <td>1185.0</td>\n",
       "      <td>0.0</td>\n",
       "    </tr>\n",
       "    <tr>\n",
       "      <th>3</th>\n",
       "      <td>14.37</td>\n",
       "      <td>1.95</td>\n",
       "      <td>2.50</td>\n",
       "      <td>16.8</td>\n",
       "      <td>113.0</td>\n",
       "      <td>3.85</td>\n",
       "      <td>3.49</td>\n",
       "      <td>0.24</td>\n",
       "      <td>2.18</td>\n",
       "      <td>7.80</td>\n",
       "      <td>0.86</td>\n",
       "      <td>3.45</td>\n",
       "      <td>1480.0</td>\n",
       "      <td>0.0</td>\n",
       "    </tr>\n",
       "    <tr>\n",
       "      <th>4</th>\n",
       "      <td>13.24</td>\n",
       "      <td>2.59</td>\n",
       "      <td>2.87</td>\n",
       "      <td>21.0</td>\n",
       "      <td>118.0</td>\n",
       "      <td>2.80</td>\n",
       "      <td>2.69</td>\n",
       "      <td>0.39</td>\n",
       "      <td>1.82</td>\n",
       "      <td>4.32</td>\n",
       "      <td>1.04</td>\n",
       "      <td>2.93</td>\n",
       "      <td>735.0</td>\n",
       "      <td>0.0</td>\n",
       "    </tr>\n",
       "  </tbody>\n",
       "</table>\n",
       "</div>"
      ],
      "text/plain": [
       "   alcohol  malic_acid   ash  alcalinity_of_ash  magnesium  total_phenols  \\\n",
       "0    14.23        1.71  2.43               15.6      127.0           2.80   \n",
       "1    13.20        1.78  2.14               11.2      100.0           2.65   \n",
       "2    13.16        2.36  2.67               18.6      101.0           2.80   \n",
       "3    14.37        1.95  2.50               16.8      113.0           3.85   \n",
       "4    13.24        2.59  2.87               21.0      118.0           2.80   \n",
       "\n",
       "   flavanoids  nonflavanoid_phenols  proanthocyanins  color_intensity   hue  \\\n",
       "0        3.06                  0.28             2.29             5.64  1.04   \n",
       "1        2.76                  0.26             1.28             4.38  1.05   \n",
       "2        3.24                  0.30             2.81             5.68  1.03   \n",
       "3        3.49                  0.24             2.18             7.80  0.86   \n",
       "4        2.69                  0.39             1.82             4.32  1.04   \n",
       "\n",
       "   od280/od315_of_diluted_wines  proline  target  \n",
       "0                          3.92   1065.0     0.0  \n",
       "1                          3.40   1050.0     0.0  \n",
       "2                          3.17   1185.0     0.0  \n",
       "3                          3.45   1480.0     0.0  \n",
       "4                          2.93    735.0     0.0  "
      ]
     },
     "execution_count": 4,
     "metadata": {},
     "output_type": "execute_result"
    }
   ],
   "source": [
    "df.head()"
   ]
  },
  {
   "cell_type": "code",
   "execution_count": 5,
   "id": "504ed8e8",
   "metadata": {},
   "outputs": [
    {
     "data": {
      "image/png": "[encoded data removed]",
      "text/plain": [
       "<Figure size 432x288 with 1 Axes>"
      ]
     },
     "metadata": {
      "needs_background": "light"
     },
     "output_type": "display_data"
    }
   ],
   "source": [
    "# Plot a histogram of the 'alcohol' feature\n",
    "import matplotlib.pyplot as plt\n",
    "plt.hist(df['alcohol'], bins=10, alpha=0.5)\n",
    "plt.xlabel('Alcohol')\n",
    "plt.ylabel('Count')\n",
    "plt.title('Histogram of Alcohol in Wine Samples')\n",
    "plt.show()"
   ]
  },
  {
   "cell_type": "code",
   "execution_count": 6,
   "id": "c119136a",
   "metadata": {},
   "outputs": [],
   "source": [
    "# Split the data into training and test sets\n",
    "from sklearn.model_selection import train_test_split\n",
    "X_train, X_test, y_train, y_test = train_test_split(wine.data, wine.target, test_size=0.2, random_state=42)"
   ]
  },
  {
   "cell_type": "code",
   "execution_count": 8,
   "id": "b9da3e81",
   "metadata": {},
   "outputs": [
    {
     "name": "stdout",
     "output_type": "stream",
     "text": [
      "Decision Tree Accuracy: 0.94\n"
     ]
    },
    {
     "data": {
      "image/png": "[encoded data removed]",
      "text/plain": [
       "<Figure size 432x288 with 2 Axes>"
      ]
     },
     "metadata": {
      "needs_background": "light"
     },
     "output_type": "display_data"
    }
   ],
   "source": [
    "from sklearn.tree import DecisionTreeClassifier\n",
    "from sklearn.metrics import accuracy_score, confusion_matrix, ConfusionMatrixDisplay\n",
    "\n",
    "\n",
    "# Create and train a decision tree\n",
    "tree = DecisionTreeClassifier()\n",
    "tree.fit(X_train, y_train)\n",
    "\n",
    "# Make predictions on the test set and calculate the accuracy\n",
    "y_pred_tree = tree.predict(X_test)\n",
    "accuracy_tree = accuracy_score(y_test, y_pred_tree)\n",
    "print(f\"Decision Tree Accuracy: {accuracy_tree:.2f}\", )\n",
    "\n",
    "# utility function to draw confusion matrix with maplotlon\n",
    "def show_confusion_matrix(y_test, y_pred):\n",
    "    cfm = confusion_matrix(y_test, y_pred)\n",
    "    cm_display = ConfusionMatrixDisplay(cfm, display_labels=wine.target_names)\n",
    "    cm_display.plot(cmap=\"Blues\")\n",
    "\n",
    "\n",
    "# Show confusion matrix for the decision tree\n",
    "show_confusion_matrix(y_test, y_pred_tree)\n",
    "    "
   ]
  },
  {
   "cell_type": "code",
   "execution_count": 9,
   "id": "03391344",
   "metadata": {},
   "outputs": [
    {
     "name": "stdout",
     "output_type": "stream",
     "text": [
      "Random Forest Accuracy: 1.00\n"
     ]
    },
    {
     "data": {
      "image/png": "[encoded data removed]",
      "text/plain": [
       "<Figure size 432x288 with 2 Axes>"
      ]
     },
     "metadata": {
      "needs_background": "light"
     },
     "output_type": "display_data"
    }
   ],
   "source": [
    "    # Now let's create and train a random forest classifier\n",
    "    from sklearn.ensemble import RandomForestClassifier\n",
    "    forest = RandomForestClassifier(n_estimators=100, random_state=42)\n",
    "    forest.fit(X_train, y_train)\n",
    "\n",
    "    # Make predictions on the test set and calculate the accuracy\n",
    "    y_pred_forest = forest.predict(X_test)\n",
    "\n",
    "    accuracy_forest = accuracy_score(y_test, y_pred_forest)\n",
    "    print(f\"Random Forest Accuracy: {accuracy_forest:.2f}\", )\n",
    "\n",
    "    show_confusion_matrix(y_test, y_pred_forest )"
   ]
  },
  {
   "cell_type": "code",
   "execution_count": 10,
   "id": "03adb8ba",
   "metadata": {},
   "outputs": [
    {
     "data": {
      "image/png": "[encoded data removed]",
      "text/plain": [
       "<Figure size 432x288 with 1 Axes>"
      ]
     },
     "metadata": {
      "needs_background": "light"
     },
     "output_type": "display_data"
    }
   ],
   "source": [
    "importance=forest.feature_importances_\n",
    "std = np.std([tree.feature_importances_ for tree in forest.estimators_],\n",
    "             axis=0)\n",
    "indices = np.argsort(importance)\n",
    "# Plot the feature importances of the forest\n",
    "plt.figure()\n",
    "plt.title(\"Feature importances\")\n",
    "plt.barh(range(wine.data.shape[1]), importance[indices],\n",
    "       color=\"b\",  align=\"center\")\n",
    "\n",
    "plt.yticks(range(wine.data.shape[1]), df.columns[:-1].tolist())\n",
    "plt.ylim([0, wine.data.shape[1]])\n",
    "plt.show()\n"
   ]
  },
  {
   "cell_type": "code",
   "execution_count": 11,
   "id": "26302dff",
   "metadata": {},
   "outputs": [
    {
     "name": "stdout",
     "output_type": "stream",
     "text": [
      "Epoch 1/20\n",
      "142/142 [==============================] - 3s 3ms/step - loss: 1.1169 - accuracy: 0.5423\n",
      "Epoch 2/20\n",
      "142/142 [==============================] - 0s 3ms/step - loss: 0.6556 - accuracy: 0.7183\n",
      "Epoch 3/20\n",
      "142/142 [==============================] - 0s 3ms/step - loss: 0.4093 - accuracy: 0.9085\n",
      "Epoch 4/20\n",
      "142/142 [==============================] - 0s 2ms/step - loss: 0.2719 - accuracy: 0.9437\n",
      "Epoch 5/20\n",
      "142/142 [==============================] - 0s 2ms/step - loss: 0.1929 - accuracy: 0.9648\n",
      "Epoch 6/20\n",
      "142/142 [==============================] - 0s 2ms/step - loss: 0.1446 - accuracy: 0.9859\n",
      "Epoch 7/20\n",
      "142/142 [==============================] - 0s 3ms/step - loss: 0.1148 - accuracy: 0.9859\n",
      "Epoch 8/20\n",
      "142/142 [==============================] - 0s 2ms/step - loss: 0.0934 - accuracy: 0.9859\n",
      "Epoch 9/20\n",
      "142/142 [==============================] - 0s 3ms/step - loss: 0.0787 - accuracy: 0.9859\n",
      "Epoch 10/20\n",
      "142/142 [==============================] - 0s 3ms/step - loss: 0.0664 - accuracy: 0.9859\n",
      "Epoch 11/20\n",
      "142/142 [==============================] - 0s 3ms/step - loss: 0.0567 - accuracy: 0.9859\n",
      "Epoch 12/20\n",
      "142/142 [==============================] - 0s 3ms/step - loss: 0.0487 - accuracy: 0.9859\n",
      "Epoch 13/20\n",
      "142/142 [==============================] - 0s 3ms/step - loss: 0.0426 - accuracy: 0.9930\n",
      "Epoch 14/20\n",
      "142/142 [==============================] - 0s 2ms/step - loss: 0.0375 - accuracy: 0.9930\n",
      "Epoch 15/20\n",
      "142/142 [==============================] - 0s 2ms/step - loss: 0.0334 - accuracy: 0.9930\n",
      "Epoch 16/20\n",
      "142/142 [==============================] - 0s 2ms/step - loss: 0.0299 - accuracy: 1.0000\n",
      "Epoch 17/20\n",
      "142/142 [==============================] - 0s 2ms/step - loss: 0.0270 - accuracy: 1.0000\n",
      "Epoch 18/20\n",
      "142/142 [==============================] - 0s 3ms/step - loss: 0.0245 - accuracy: 1.0000\n",
      "Epoch 19/20\n",
      "142/142 [==============================] - 0s 3ms/step - loss: 0.0221 - accuracy: 1.0000\n",
      "Epoch 20/20\n",
      "142/142 [==============================] - 0s 2ms/step - loss: 0.0203 - accuracy: 1.0000\n",
      "2/2 [==============================] - 0s 4ms/step\n",
      "MLP Accuracy: 1.0\n",
      "MLP Confusion Matrix:\n",
      "\n"
     ]
    }
   ],
   "source": [
    "from sklearn.preprocessing import StandardScaler\n",
    "from tensorflow.keras.models import Sequential\n",
    "from tensorflow.keras.layers import Dense\n",
    "from tensorflow.keras.utils import to_categorical\n",
    "\n",
    "# Standardize the features to have mean=0 and variance=1\n",
    "scaler = StandardScaler()\n",
    "data = scaler.fit_transform(wine.data)\n",
    "\n",
    "# Convert targets to categorical (one-hot encoding)\n",
    "targets = to_categorical(wine.target)\n",
    "\n",
    "# Split the data into training and test sets\n",
    "X_train, X_test, y_train, y_test = train_test_split(data, targets, test_size=0.2, random_state=42)\n",
    "\n",
    "# Create a Sequential model\n",
    "model = Sequential()\n",
    "model.add(Dense(13, activation='relu', input_shape=(13,)))\n",
    "model.add(Dense(3, activation='softmax'))\n",
    "\n",
    "# Compile the model with 'categorical_crossentropy' loss function and 'adam' optimizer\n",
    "model.compile(loss='categorical_crossentropy', optimizer='adam', metrics=['accuracy'])\n",
    "\n",
    "# Train the model for 20 epochs\n",
    "model.fit(X_train, y_train, epochs=20, batch_size=1, verbose=1)\n",
    "\n",
    "# Make predictions on the test set and calculate the accuracy\n",
    "y_pred_mlp = np.argmax(model.predict(X_test), axis=-1)\n",
    "accuracy_mlp = accuracy_score(np.argmax(y_test, axis=-1), y_pred_mlp)\n",
    "print(\"MLP Accuracy:\", accuracy_mlp)\n",
    "\n",
    "# Print the confusion matrix for the MLP\n",
    "print(\"MLP Confusion Matrix:\")\n",
    "cfn=confusion_matrix(np.argmax(y_test, axis=-1), y_pred_mlp)\n",
    "print()"
   ]
  },
  {
   "cell_type": "code",
   "execution_count": 12,
   "id": "7060ecd8",
   "metadata": {},
   "outputs": [
    {
     "data": {
      "image/png": "[encoded data removed]",
      "text/plain": [
       "<Figure size 432x288 with 2 Axes>"
      ]
     },
     "metadata": {
      "needs_background": "light"
     },
     "output_type": "display_data"
    }
   ],
   "source": [
    "show_confusion_matrix(np.argmax(y_test, axis=-1),  y_pred_mlp )"
   ]
  },
  {
   "cell_type": "code",
   "execution_count": null,
   "id": "5ee321cf-d2c6-4d34-8fa7-00223503e137",
   "metadata": {},
   "outputs": [],
   "source": []
  }
 ],
 "metadata": {
  "kernelspec": {
   "display_name": "Python 3 (ipykernel)",
   "language": "python",
   "name": "python3"
  },
  "language_info": {
   "codemirror_mode": {
    "name": "ipython",
    "version": 3
   },
   "file_extension": ".py",
   "mimetype": "text/x-python",
   "name": "python",
   "nbconvert_exporter": "python",
   "pygments_lexer": "ipython3",
   "version": "3.10.6"
  }
 },
 "nbformat": 4,
 "nbformat_minor": 5
}
